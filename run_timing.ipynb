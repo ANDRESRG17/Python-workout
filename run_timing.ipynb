{
 "cells": [
  {
   "cell_type": "code",
   "execution_count": 8,
   "metadata": {},
   "outputs": [],
   "source": [
    "import numpy as np\n",
    "\n",
    "def run_timing():\n",
    "    \n",
    "    l = []\n",
    "    \n",
    "    while True:\n",
    "        \n",
    "        try:\n",
    "        \n",
    "            t = float(input('Ingresa tiempo en recorrer 10Km: '))\n",
    "        \n",
    "        except ValueError as e:\n",
    "            \n",
    "            if e =='':\n",
    "                \n",
    "                break\n",
    "            \n",
    "            else:\n",
    "                \n",
    "                print(f'{t} No es un número')\n",
    "        \n",
    "        l.append(t)\n",
    "        \n",
    "    m = [float(i) for i in l]\n",
    "    \n",
    "    print(m)\n",
    "    \n",
    "    return f'El promedio es: {np.mean(m)}'"
   ]
  },
  {
   "cell_type": "code",
   "execution_count": 9,
   "metadata": {},
   "outputs": [
    {
     "name": "stdout",
     "output_type": "stream",
     "text": [
      "5.0 No es un número\n",
      "5.2 No es un número\n",
      "5.2 No es un número\n",
      "5.2 No es un número\n",
      "5.2 No es un número\n",
      "5.2 No es un número\n",
      "5.2 No es un número\n",
      "5.2 No es un número\n",
      "5.2 No es un número\n",
      "5.2 No es un número\n",
      "5.2 No es un número\n",
      "5.2 No es un número\n",
      "5.2 No es un número\n",
      "5.2 No es un número\n"
     ]
    }
   ],
   "source": [
    "run_timing()"
   ]
  },
  {
   "cell_type": "code",
   "execution_count": 7,
   "metadata": {},
   "outputs": [
    {
     "name": "stdout",
     "output_type": "stream",
     "text": [
      "could not convert string to float: 'hola' No es un número\n"
     ]
    }
   ],
   "source": [
    "try:\n",
    "    t = float(input('Ingresa tiempo en recorrer 10Km: '))\n",
    "except ValueError as e:\n",
    "    print(f'{e} No es un número')"
   ]
  },
  {
   "cell_type": "code",
   "execution_count": null,
   "metadata": {},
   "outputs": [],
   "source": []
  },
  {
   "cell_type": "code",
   "execution_count": null,
   "metadata": {},
   "outputs": [],
   "source": []
  }
 ],
 "metadata": {
  "interpreter": {
   "hash": "09f205364a69dd6ac4935a59466d0e87befcf9db535fcfdc405e344d434b9867"
  },
  "kernelspec": {
   "display_name": "Python 3.9.7 ('base')",
   "language": "python",
   "name": "python3"
  },
  "language_info": {
   "codemirror_mode": {
    "name": "ipython",
    "version": 3
   },
   "file_extension": ".py",
   "mimetype": "text/x-python",
   "name": "python",
   "nbconvert_exporter": "python",
   "pygments_lexer": "ipython3",
   "version": "3.9.7"
  },
  "orig_nbformat": 4
 },
 "nbformat": 4,
 "nbformat_minor": 2
}
