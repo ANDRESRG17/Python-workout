{
 "cells": [
  {
   "cell_type": "code",
   "execution_count": 56,
   "metadata": {},
   "outputs": [],
   "source": [
    "import numpy as np\n",
    "\n",
    "def run_timing():\n",
    "    \n",
    "    l = []\n",
    "    \n",
    "    while True:\n",
    "        \n",
    "        try:\n",
    "        \n",
    "            t = float(input('Ingresa tiempo en recorrer 10Km: '))\n",
    "        \n",
    "        except ValueError as e:\n",
    "        \n",
    "            print(f'{t} No es un número')\n",
    "        \n",
    "        if not t:\n",
    "            break\n",
    "        \n",
    "        \n",
    "        l.append(t)\n",
    "        \n",
    "    m = [float(i) for i in l]\n",
    "    \n",
    "    print(m)\n",
    "    \n",
    "    return f'El promedio es: {np.mean(m)}'"
   ]
  },
  {
   "cell_type": "code",
   "execution_count": 57,
   "metadata": {},
   "outputs": [
    {
     "name": "stdout",
     "output_type": "stream",
     "text": [
      "2.0 No es un número\n",
      "3.0 No es un número\n",
      "3.0 No es un número\n",
      "3.0 No es un número\n",
      "3.0 No es un número\n",
      "3.0 No es un número\n",
      "3.0 No es un número\n",
      "3.0 No es un número\n",
      "3.0 No es un número\n",
      "3.0 No es un número\n",
      "3.0 No es un número\n",
      "3.0 No es un número\n",
      "3.0 No es un número\n",
      "3.0 No es un número\n",
      "3.0 No es un número\n",
      "3.0 No es un número\n",
      "3.0 No es un número\n",
      "3.0 No es un número\n",
      "3.0 No es un número\n",
      "3.0 No es un número\n",
      "3.0 No es un número\n",
      "3.0 No es un número\n",
      "3.0 No es un número\n",
      "3.0 No es un número\n",
      "3.0 No es un número\n",
      "3.0 No es un número\n",
      "3.0 No es un número\n",
      "3.0 No es un número\n",
      "3.0 No es un número\n",
      "3.0 No es un número\n",
      "3.0 No es un número\n",
      "3.0 No es un número\n",
      "3.0 No es un número\n",
      "3.0 No es un número\n",
      "3.0 No es un número\n",
      "3.0 No es un número\n",
      "3.0 No es un número\n",
      "3.0 No es un número\n",
      "3.0 No es un número\n",
      "3.0 No es un número\n",
      "3.0 No es un número\n",
      "3.0 No es un número\n",
      "3.0 No es un número\n",
      "3.0 No es un número\n",
      "3.0 No es un número\n",
      "3.0 No es un número\n",
      "3.0 No es un número\n",
      "3.0 No es un número\n",
      "3.0 No es un número\n",
      "3.0 No es un número\n",
      "3.0 No es un número\n",
      "3.0 No es un número\n",
      "3.0 No es un número\n",
      "3.0 No es un número\n",
      "3.0 No es un número\n"
     ]
    }
   ],
   "source": [
    "run_timing()"
   ]
  },
  {
   "cell_type": "code",
   "execution_count": null,
   "metadata": {},
   "outputs": [],
   "source": []
  }
 ],
 "metadata": {
  "interpreter": {
   "hash": "09f205364a69dd6ac4935a59466d0e87befcf9db535fcfdc405e344d434b9867"
  },
  "kernelspec": {
   "display_name": "Python 3.9.7 ('base')",
   "language": "python",
   "name": "python3"
  },
  "language_info": {
   "codemirror_mode": {
    "name": "ipython",
    "version": 3
   },
   "file_extension": ".py",
   "mimetype": "text/x-python",
   "name": "python",
   "nbconvert_exporter": "python",
   "pygments_lexer": "ipython3",
   "version": "3.9.7"
  },
  "orig_nbformat": 4
 },
 "nbformat": 4,
 "nbformat_minor": 2
}
