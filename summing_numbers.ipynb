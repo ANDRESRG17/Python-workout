{
 "cells": [
  {
   "cell_type": "code",
   "execution_count": 28,
   "metadata": {},
   "outputs": [],
   "source": [
    "def mysum(*num):\n",
    "    \n",
    "    #n = int(input(\"Digiete el número de números a sumar\"))\n",
    "    \n",
    "    suma1 = 0\n",
    "    \n",
    "    for i in num:\n",
    "        \n",
    "        #m = int(input(f\"Ingrese el {i+1} numero\"))\n",
    "        \n",
    "        suma1 += i\n",
    "        \n",
    "    return suma1"
   ]
  },
  {
   "cell_type": "code",
   "execution_count": 32,
   "metadata": {},
   "outputs": [
    {
     "data": {
      "text/plain": [
       "41"
      ]
     },
     "execution_count": 32,
     "metadata": {},
     "output_type": "execute_result"
    }
   ],
   "source": [
    "mysum(3,4,4,6,8,9,1,2,4)"
   ]
  },
  {
   "cell_type": "code",
   "execution_count": null,
   "metadata": {},
   "outputs": [],
   "source": [
    "Unidad =  [\"\", \"primero\", \"segundo\", \"tercero\", \"cuarto\", \"quinto\", \"sexto\", \"septimo\", \"octavo\", \"noveno\"]\n",
    "Decena =  [\"\", \"decimo\", \"vigesimo\", \"trigesimo\", \"cuadragesimo\", \"quincuagesimo\", \"sexagesimo\", \"septuagesimo\", \"octogesimo\", \"nonagesimo\"]\n",
    "Centena = [\"\", \"centesimo\", \"ducentesimo\", \"tricentesimo\", \" cuadringentesimo\", \" quingentesimo\", \" sexcentesimo\", \" septingentesimo\",\" octingentesimo\", \" noningentesimo\"]"
   ]
  }
 ],
 "metadata": {
  "interpreter": {
   "hash": "ffbbe3b90cece4b0ed71f69b090b9f0e37c04aeca564016e374ebe9ae08385d0"
  },
  "kernelspec": {
   "display_name": "Python 3.9.10 64-bit (windows store)",
   "language": "python",
   "name": "python3"
  },
  "language_info": {
   "codemirror_mode": {
    "name": "ipython",
    "version": 3
   },
   "file_extension": ".py",
   "mimetype": "text/x-python",
   "name": "python",
   "nbconvert_exporter": "python",
   "pygments_lexer": "ipython3",
   "version": "3.9.10"
  },
  "orig_nbformat": 4
 },
 "nbformat": 4,
 "nbformat_minor": 2
}
